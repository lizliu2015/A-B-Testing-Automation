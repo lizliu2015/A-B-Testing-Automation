{
 "cells": [
  {
   "cell_type": "markdown",
   "metadata": {},
   "source": [
    "##### Power Analysis for Proportions"
   ]
  },
  {
   "cell_type": "markdown",
   "metadata": {},
   "source": [
    "\n",
    "###### ***Installing & Importing the necessary libraries***"
   ]
  },
  {
   "cell_type": "code",
   "execution_count": 1,
   "metadata": {},
   "outputs": [
    {
     "data": {
      "text/plain": [
       "'!pip install import_ipynb\\n!pip install statsmodels\\n!pip install pandas\\n!pip install numpy'"
      ]
     },
     "execution_count": 1,
     "metadata": {},
     "output_type": "execute_result"
    }
   ],
   "source": [
    "'''!pip install import_ipynb\n",
    "!pip install statsmodels\n",
    "!pip install pandas\n",
    "!pip install numpy'''"
   ]
  },
  {
   "cell_type": "code",
   "execution_count": 2,
   "metadata": {},
   "outputs": [
    {
     "name": "stdout",
     "output_type": "stream",
     "text": [
      "importing Jupyter notebook from Bag_Visits.ipynb\n"
     ]
    }
   ],
   "source": [
    "import import_ipynb\n",
    "from Bag_Visits import *\n",
    "import statsmodels.stats.api as sms\n",
    "import pandas as pd\n",
    "import numpy as np\n",
    "from IPython.display import Markdown, display"
   ]
  },
  {
   "cell_type": "code",
   "execution_count": 3,
   "metadata": {},
   "outputs": [
    {
     "data": {
      "text/markdown": [
       "\n",
       " ****Do you want to run Standardized or Non-Standardized Experiment?****\n"
      ],
      "text/plain": [
       "<IPython.core.display.Markdown object>"
      ]
     },
     "metadata": {},
     "output_type": "display_data"
    },
    {
     "name": "stdout",
     "output_type": "stream",
     "text": [
      "Enter 1 for Non-Standardized input (i.e., Manual Entry)         \n",
      "Enter 2 for Standardized input  2\n"
     ]
    },
    {
     "data": {
      "text/markdown": [
       "\n",
       " ****Question:**** \n"
      ],
      "text/plain": [
       "<IPython.core.display.Markdown object>"
      ]
     },
     "metadata": {},
     "output_type": "display_data"
    },
    {
     "name": "stdout",
     "output_type": "stream",
     "text": [
      "Select the device:\n",
      " 1 for Desktop \n",
      " 2 for Mobile App\n",
      " 3 for Mobile Web\n",
      " 4 for Tablet: 1\n"
     ]
    },
    {
     "data": {
      "text/markdown": [
       "\n",
       " ****Question:**** \n"
      ],
      "text/plain": [
       "<IPython.core.display.Markdown object>"
      ]
     },
     "metadata": {},
     "output_type": "display_data"
    },
    {
     "name": "stdout",
     "output_type": "stream",
     "text": [
      "Enter the month of the experiment: April\n",
      "\n",
      "\n"
     ]
    },
    {
     "data": {
      "text/markdown": [
       "\n",
       " ****Question:**** \n"
      ],
      "text/plain": [
       "<IPython.core.display.Markdown object>"
      ]
     },
     "metadata": {},
     "output_type": "display_data"
    },
    {
     "name": "stdout",
     "output_type": "stream",
     "text": [
      "How many ARMS are in the experiment (Control + All treatments)?  2\n",
      "Accepted: 2  \n",
      "\n",
      "\n",
      "\n"
     ]
    },
    {
     "data": {
      "text/markdown": [
       "\n",
       " ****Question:**** \n"
      ],
      "text/plain": [
       "<IPython.core.display.Markdown object>"
      ]
     },
     "metadata": {},
     "output_type": "display_data"
    },
    {
     "name": "stdout",
     "output_type": "stream",
     "text": [
      "Please enter the page name where experiment has to run Hompage\n",
      "\n",
      " You have entered  wrong input. Please enter any one from options below.\n"
     ]
    },
    {
     "data": {
      "text/markdown": [
       "****The possible landing pages are:\n",
       " 1. homepage \n",
       " 2. search \n",
       " 3. browse \n",
       " 4. pdp \n",
       " 5. atb \n",
       " 6. bag ****"
      ],
      "text/plain": [
       "<IPython.core.display.Markdown object>"
      ]
     },
     "metadata": {},
     "output_type": "display_data"
    },
    {
     "name": "stdout",
     "output_type": "stream",
     "text": [
      "Error: single positional indexer is out-of-bounds\n",
      "Please enter a valid number... \n",
      "\n"
     ]
    },
    {
     "data": {
      "text/markdown": [
       "\n",
       " ****Question:**** \n"
      ],
      "text/plain": [
       "<IPython.core.display.Markdown object>"
      ]
     },
     "metadata": {},
     "output_type": "display_data"
    },
    {
     "name": "stdout",
     "output_type": "stream",
     "text": [
      "Please enter the page name where experiment has to run homepage\n"
     ]
    },
    {
     "data": {
      "text/markdown": [
       "***Total Visits of homepage: 43610351***"
      ],
      "text/plain": [
       "<IPython.core.display.Markdown object>"
      ]
     },
     "metadata": {},
     "output_type": "display_data"
    },
    {
     "name": "stdout",
     "output_type": "stream",
     "text": [
      "\n",
      "\n"
     ]
    },
    {
     "data": {
      "text/markdown": [
       "\n",
       " ****Question:**** \n"
      ],
      "text/plain": [
       "<IPython.core.display.Markdown object>"
      ]
     },
     "metadata": {},
     "output_type": "display_data"
    },
    {
     "name": "stdout",
     "output_type": "stream",
     "text": [
      "Please enter the success metric page order\n"
     ]
    },
    {
     "data": {
      "text/markdown": [
       "***Total Visits of order: 513837***"
      ],
      "text/plain": [
       "<IPython.core.display.Markdown object>"
      ]
     },
     "metadata": {},
     "output_type": "display_data"
    },
    {
     "name": "stdout",
     "output_type": "stream",
     "text": [
      "\n",
      "\n",
      "**********************************************************************\n"
     ]
    },
    {
     "data": {
      "text/markdown": [
       "****Number of DAYS historical data span for: ****"
      ],
      "text/plain": [
       "<IPython.core.display.Markdown object>"
      ]
     },
     "metadata": {},
     "output_type": "display_data"
    },
    {
     "name": "stdout",
     "output_type": "stream",
     "text": [
      "90\n",
      "Previous Month: march \t Current Month: april \t  Next Month: may \t  \n",
      " \n",
      "\n",
      "\n",
      "\n"
     ]
    },
    {
     "data": {
      "text/markdown": [
       "\n",
       " ****Fiscal Previous & Next Month Mapping Table**** \n"
      ],
      "text/plain": [
       "<IPython.core.display.Markdown object>"
      ]
     },
     "metadata": {},
     "output_type": "display_data"
    },
    {
     "name": "stdout",
     "output_type": "stream",
     "text": [
      "    Current Month Number Current Month Name  Previous Month Number  \\\n",
      "0                      1           february                     12   \n",
      "1                      2              march                      1   \n",
      "2                      3              april                      2   \n",
      "3                      4                may                      3   \n",
      "4                      5               june                      4   \n",
      "5                      6               july                      5   \n",
      "6                      7             august                      6   \n",
      "7                      8          september                      7   \n",
      "8                      9            october                      8   \n",
      "9                     10           november                      9   \n",
      "10                    11           december                     10   \n",
      "11                    12            january                      0   \n",
      "\n",
      "    Next Month Number Previous Month Name     Next Month Name  \n",
      "0                   2             january               march  \n",
      "1                   3            february               april  \n",
      "2                   4               march                 may  \n",
      "3                   5               april                june  \n",
      "4                   6                 may                july  \n",
      "5                   7                june              august  \n",
      "6                   8                july           september  \n",
      "7                   9              august             october  \n",
      "8                   0           september  Data Not Available  \n",
      "9                  11             october            december  \n",
      "10                 12            november             january  \n",
      "11                  1  Data Not Available            february  \n",
      "**********************************************************************\n",
      "\n",
      "\n"
     ]
    },
    {
     "data": {
      "text/markdown": [
       "\n",
       " ****Question:**** \n"
      ],
      "text/plain": [
       "<IPython.core.display.Markdown object>"
      ]
     },
     "metadata": {},
     "output_type": "display_data"
    },
    {
     "name": "stdout",
     "output_type": "stream",
     "text": [
      "What is the MINIMUM number of days that you think your test should run for? (Usually 14)  2\n",
      "Accepted: 2  \n",
      "\n",
      "\n",
      "\n"
     ]
    },
    {
     "data": {
      "text/markdown": [
       "\n",
       " ****Question:**** \n"
      ],
      "text/plain": [
       "<IPython.core.display.Markdown object>"
      ]
     },
     "metadata": {},
     "output_type": "display_data"
    },
    {
     "name": "stdout",
     "output_type": "stream",
     "text": [
      "What is the MAXIMUM number of days that you think the test should run for? (Usually 28)  28\n",
      "Accepted: 28  \n",
      "\n",
      "Accepted! Here are you input values:  \n",
      "\n",
      "narms 2\n",
      "nsessions 43610351\n",
      "nsuccess 513837\n",
      "ndays 90\n",
      "mindays 2\n",
      "maxdays 28\n",
      "baseline_conversion_rate 0.011782\n",
      "sessions_per_day 484559\n",
      "\n",
      "\n",
      "Is there a specific LIFT value you want to measure? (Yes/No)  No\n",
      "Ok, a range of values will be provided then...    \n",
      "\n",
      "[0.0005, 0.001, 0.0015, 0.002, 0.0025, 0.003, 0.0035, 0.004, 0.0045, 0.005, 0.0055, 0.006, 0.0065, 0.007, 0.0075, 0.008, 0.0085, 0.009, 0.0095, 0.01, 0.0105, 0.011, 0.0115, 0.012, 0.0125, 0.013, 0.0135, 0.014, 0.0145, 0.015, 0.0155, 0.016, 0.0165, 0.017, 0.0175, 0.018, 0.0185, 0.019, 0.0195, 0.02, 0.0205, 0.021, 0.0215, 0.022, 0.0225, 0.023, 0.0235, 0.024, 0.0245, 0.025, 0.0255, 0.026, 0.0265, 0.027, 0.0275, 0.028, 0.0285, 0.029, 0.0295, 0.03, 0.0305, 0.031, 0.0315, 0.032, 0.0325, 0.033, 0.0335, 0.034, 0.0345, 0.035, 0.0355, 0.036, 0.0365, 0.037, 0.0375, 0.038, 0.0385, 0.039, 0.0395, 0.04, 0.0405, 0.041, 0.0415, 0.042, 0.0425, 0.043, 0.0435, 0.044, 0.0445, 0.045, 0.0455, 0.046, 0.0465, 0.047, 0.0475, 0.048, 0.0485, 0.049, 0.0495, 0.05]\n",
      "Is there a specific SPLIT value you want to measure? (Yes/No)  No\n",
      "Ok, a range of values will be provided then...    \n",
      "\n",
      "[0.01, 0.02, 0.05, 0.1, 0.15, 0.2, 0.25, 0.3, 0.35, 0.4, 0.45, 0.5]\n",
      "What is the name of your experiment?  test1\n",
      "\n",
      " Generating Report... Please wait... \n",
      "\n",
      "The experiment: test1, has 2 arms. \n",
      "\n",
      "The maximum split you can have per group is 50.00% \n",
      "\n",
      "The baseline conversion rate is 1.18%. \n",
      "\n",
      "Filtered and Unfiltered results have been saved to CSV! \n",
      "\n",
      "Snapshot also shown below. \n",
      " \n",
      "\n",
      "        lift  split  sample_size_per_arm  baseline  minimum_detectable_effect  \\\n",
      "1198  0.0500   0.45             539586.0  0.011782                   0.012371   \n",
      "1139  0.0475   0.50             597167.0  0.011782                   0.012342   \n",
      "1151  0.0480   0.50             584931.0  0.011782                   0.012348   \n",
      "1163  0.0485   0.50             573069.0  0.011782                   0.012353   \n",
      "1175  0.0490   0.50             561567.0  0.011782                   0.012359   \n",
      "1187  0.0495   0.50             550411.0  0.011782                   0.012365   \n",
      "1199  0.0500   0.50             539586.0  0.011782                   0.012371   \n",
      "1148  0.0480   0.35             584931.0  0.011782                   0.012348   \n",
      "1160  0.0485   0.35             573069.0  0.011782                   0.012353   \n",
      "1172  0.0490   0.35             561567.0  0.011782                   0.012359   \n",
      "1184  0.0495   0.35             550411.0  0.011782                   0.012365   \n",
      "1196  0.0500   0.35             539586.0  0.011782                   0.012371   \n",
      "1077  0.0450   0.40             664569.0  0.011782                   0.012312   \n",
      "1089  0.0455   0.40             650198.0  0.011782                   0.012318   \n",
      "1101  0.0460   0.40             636292.0  0.011782                   0.012324   \n",
      "1113  0.0465   0.40             622831.0  0.011782                   0.012330   \n",
      "1125  0.0470   0.40             609795.0  0.011782                   0.012336   \n",
      "1137  0.0475   0.40             597167.0  0.011782                   0.012342   \n",
      "1149  0.0480   0.40             584931.0  0.011782                   0.012348   \n",
      "1161  0.0485   0.40             573069.0  0.011782                   0.012353   \n",
      "1173  0.0490   0.40             561567.0  0.011782                   0.012359   \n",
      "1185  0.0495   0.40             550411.0  0.011782                   0.012365   \n",
      "1197  0.0500   0.40             539586.0  0.011782                   0.012371   \n",
      "1006  0.0420   0.45             761804.0  0.011782                   0.012277   \n",
      "1018  0.0425   0.45             744163.0  0.011782                   0.012283   \n",
      "1030  0.0430   0.45             727131.0  0.011782                   0.012289   \n",
      "1042  0.0435   0.45             710682.0  0.011782                   0.012295   \n",
      "1054  0.0440   0.45             694788.0  0.011782                   0.012300   \n",
      "1066  0.0445   0.45             679424.0  0.011782                   0.012306   \n",
      "1078  0.0450   0.45             664569.0  0.011782                   0.012312   \n",
      "...      ...    ...                  ...       ...                        ...   \n",
      "557   0.0235   0.20            2411751.0  0.011782                   0.012059   \n",
      "498   0.0210   0.25            3016491.0  0.011782                   0.012029   \n",
      "451   0.0190   0.30            3681381.0  0.011782                   0.012006   \n",
      "393   0.0165   0.40            4875518.0  0.011782                   0.011976   \n",
      "370   0.0155   0.45            5522214.0  0.011782                   0.011965   \n",
      "1094  0.0460   0.05             636292.0  0.011782                   0.012324   \n",
      "1106  0.0465   0.05             622831.0  0.011782                   0.012330   \n",
      "771   0.0325   0.10            1266463.0  0.011782                   0.012165   \n",
      "628   0.0265   0.15            1899364.0  0.011782                   0.012094   \n",
      "545   0.0230   0.20            2517138.0  0.011782                   0.012053   \n",
      "486   0.0205   0.25            3164662.0  0.011782                   0.012024   \n",
      "416   0.0175   0.35            4336351.0  0.011782                   0.011988   \n",
      "347   0.0145   0.50            6307082.0  0.011782                   0.011953   \n",
      "1070  0.0450   0.05             664569.0  0.011782                   0.012312   \n",
      "1082  0.0455   0.05             650198.0  0.011782                   0.012318   \n",
      "759   0.0320   0.10            1306034.0  0.011782                   0.012159   \n",
      "616   0.0260   0.15            1972641.0  0.011782                   0.012088   \n",
      "533   0.0225   0.20            2629616.0  0.011782                   0.012047   \n",
      "474   0.0200   0.25            3324064.0  0.011782                   0.012018   \n",
      "439   0.0185   0.30            3882118.0  0.011782                   0.012000   \n",
      "404   0.0170   0.35            4594061.0  0.011782                   0.011982   \n",
      "381   0.0160   0.40            5183734.0  0.011782                   0.011971   \n",
      "358   0.0150   0.45            5895058.0  0.011782                   0.011959   \n",
      "1058  0.0445   0.05             679424.0  0.011782                   0.012306   \n",
      "747   0.0315   0.10            1347500.0  0.011782                   0.012153   \n",
      "604   0.0255   0.15            2050261.0  0.011782                   0.012082   \n",
      "521   0.0220   0.20            2749834.0  0.011782                   0.012041   \n",
      "427   0.0180   0.30            4099787.0  0.011782                   0.011994   \n",
      "369   0.0155   0.40            5522214.0  0.011782                   0.011965   \n",
      "335   0.0140   0.50            6763980.0  0.011782                   0.011947   \n",
      "\n",
      "      days_to_run  \n",
      "1198          2.0  \n",
      "1139          2.0  \n",
      "1151          2.0  \n",
      "1163          2.0  \n",
      "1175          2.0  \n",
      "1187          2.0  \n",
      "1199          2.0  \n",
      "1148          3.0  \n",
      "1160          3.0  \n",
      "1172          3.0  \n",
      "1184          3.0  \n",
      "1196          3.0  \n",
      "1077          3.0  \n",
      "1089          3.0  \n",
      "1101          3.0  \n",
      "1113          3.0  \n",
      "1125          3.0  \n",
      "1137          3.0  \n",
      "1149          3.0  \n",
      "1161          3.0  \n",
      "1173          3.0  \n",
      "1185          3.0  \n",
      "1197          3.0  \n",
      "1006          3.0  \n",
      "1018          3.0  \n",
      "1030          3.0  \n",
      "1042          3.0  \n",
      "1054          3.0  \n",
      "1066          3.0  \n",
      "1078          3.0  \n",
      "...           ...  \n",
      "557          25.0  \n",
      "498          25.0  \n",
      "451          25.0  \n",
      "393          25.0  \n",
      "370          25.0  \n",
      "1094         26.0  \n",
      "1106         26.0  \n",
      "771          26.0  \n",
      "628          26.0  \n",
      "545          26.0  \n",
      "486          26.0  \n",
      "416          26.0  \n",
      "347          26.0  \n",
      "1070         27.0  \n",
      "1082         27.0  \n",
      "759          27.0  \n",
      "616          27.0  \n",
      "533          27.0  \n",
      "474          27.0  \n",
      "439          27.0  \n",
      "404          27.0  \n",
      "381          27.0  \n",
      "358          27.0  \n",
      "1058         28.0  \n",
      "747          28.0  \n",
      "604          28.0  \n",
      "521          28.0  \n",
      "427          28.0  \n",
      "369          28.0  \n",
      "335          28.0  \n",
      "\n",
      "[564 rows x 6 columns]\n"
     ]
    }
   ],
   "source": [
    "def printmd(string):\n",
    "    display(Markdown(string))\n",
    "\n",
    "def get_sample_size(u1,lift,splits):\n",
    "    effect_size = sms.proportion_effectsize(u1,u1*(1+lift))\n",
    "    sample_size = (sms.NormalIndPower().solve_power(effect_size, power=0.80, alpha=0.05, ratio=1))\n",
    "    return round(sample_size)\n",
    "\n",
    "def get_splits(max_split):\n",
    "    splits = [0.01,0.02]\n",
    "    for i in range(10):\n",
    "        new_split=round(0.05*(i+1),4)\n",
    "        if new_split<max_split:\n",
    "            splits.append(new_split)\n",
    "        else:\n",
    "            splits.append(max_split)\n",
    "            break\n",
    "    splits.sort()\n",
    "    return splits\n",
    "\n",
    "def generate_df(baseline_conversion_rate,lifts,splits,sessions_per_day):\n",
    "    sample_sizes = np.array([(lift, split, get_sample_size(baseline_conversion_rate,lift,split)) for \\\n",
    "                             lift in lifts for split in splits])\n",
    "    df = pd.DataFrame(sample_sizes, columns=[\"lift\", \"split\", \"sample_size_per_arm\"])\n",
    "    df['baseline']=baseline_conversion_rate\n",
    "    df['minimum_detectable_effect']=baseline_conversion_rate*(1+df['lift'])\n",
    "    df['days_to_run']=round(df['sample_size_per_arm']/(sessions_per_day*(df['split'])))\n",
    "    return df\n",
    "\n",
    "def filter_on_day_length(df,mindays,maxdays):\n",
    "    df2 = df[(df[\"days_to_run\"]>=mindays) & (df[\"days_to_run\"]<=maxdays)]\n",
    "    df2 = df2.sort_values(by=['days_to_run','split'])\n",
    "    return df2\n",
    "\n",
    "\n",
    "def get_max_split(narms):\n",
    "    max_split = round(1/narms,2)\n",
    "    return(max_split)\n",
    "\n",
    "#User inputs for fetching the visits from Backend file (CSV)\n",
    "def get_user_variables_automated():\n",
    "    inputs={\"narms\": \"How many ARMS are in the experiment (Control + All treatments)?  \",\n",
    "            \"nsessions\": \"Please enter the page name where experiment has to run \",\n",
    "            \"nsuccess\": \"Please enter the success metric page \",\n",
    "            \"ndays\": \"Number of DAYS historical data span for: \",\n",
    "            \"mindays\": \"What is the MINIMUM number of days that you think your test should run for? (Usually 14)  \",\n",
    "            \"maxdays\": \"What is the MAXIMUM number of days that you think the test should run for? (Usually 28)  \"}\n",
    "\n",
    "    outputs={\"narms\": None,\n",
    "             \"nsessions\": None,\n",
    "             \"nsuccess\": None,\n",
    "             \"ndays\": None,\n",
    "             \"mindays\": None,\n",
    "             \"maxdays\": None}\n",
    "    counts=0\n",
    "    counter_inp = 1\n",
    "    \n",
    "    while True:\n",
    "        \n",
    "        printmd('\\n ****Question:**** \\n')\n",
    "        device_inp = int(input(\"Select the device:\\n 1 for Desktop \\n 2 for Mobile App\\n 3 for Mobile Web\\n 4 for Tablet: \"))\n",
    "        counter_inp = counter_inp + 1\n",
    "        \n",
    "        if(device_inp == 1 or device_inp == 2 or device_inp == 3 or device_inp == 4):\n",
    "            break\n",
    "            \n",
    "        else:\n",
    "            print(\"You Entered Wrong Option. Please enter the right option, Example: 1 \")\n",
    "            continue\n",
    "            \n",
    "    while True:\n",
    "        \n",
    "        printmd('\\n ****Question:**** \\n')\n",
    "        month_name = input(\"Enter the month of the experiment: \")\n",
    "        month_name = month_name.lower()\n",
    "        counter_inp = counter_inp + 1\n",
    "        \n",
    "        if(month_name == \"november\" or month_name == \"december\"):\n",
    "            print(\"You have entered an invalid month. Please try entering a month from january to October\")\n",
    "            continue\n",
    "            \n",
    "        elif month_name == \"january\" or month_name == \"february\" or month_name == \"march\" or \\\n",
    "        month_name == \"april\" or month_name == \"may\" or month_name == \"june\" or month_name == \"july\" or month_name \\\n",
    "        == \"august\" or month_name == \"september\" or month_name == \"october\":\n",
    "            break\n",
    "            \n",
    "        else:\n",
    "            print(\"You entered wrong input. Please try entering a month from january to October, Example: 'march'\")\n",
    "            continue\n",
    "\n",
    "    \n",
    "    for key, value in inputs.items(): \n",
    "        print('\\n')\n",
    "        #printmd('****Question:**** '.format(counts+1))\n",
    "        while counts<len(outputs):\n",
    "            try:\n",
    "\n",
    "                if key == 'nsessions':\n",
    "                    printmd('\\n ****Question:**** \\n')\n",
    "                    user=input(value)\n",
    "                    \n",
    "                    while True:\n",
    "                        landingPage = user.lower().replace(\" \",\"\")\n",
    "                        if (landingPage == \"search\" or landingPage == \"browse\" or \\\n",
    "                            landingPage == \"pdp\" or landingPage == \"atb\" or landingPage == \"bag\" or landingPage == \"homepage\"):\n",
    "                            break\n",
    "                        else :\n",
    "                            print(\"\\n You have entered  wrong input. Please enter any one from options below.\")\n",
    "                            printmd(\"****The possible landing pages are:\\n 1. homepage \\n 2. search \\n 3. browse \\n 4. pdp \\n 5. atb \\n 6. bag ****\")\n",
    "                            break\n",
    "                                            \n",
    "                    user_int = int(bagOfVisits.landing(device_inp,landingPage,month_name)[0])\n",
    "                    outputs[key]=user_int\n",
    "                    printmd(\"***Total Visits of {}: {}***\".format(user,user_int))\n",
    "                    break\n",
    "                    \n",
    "                if key == 'nsuccess':\n",
    "                    printmd('\\n ****Question:**** \\n')\n",
    "                    user=input(value) \n",
    "                    \n",
    "                    while landingPage == \"homepage\":\n",
    "                        successPage = user.lower().replace(\" \",\"\")\n",
    "                        if (successPage == \"search\" or successPage == \"browse\" or \\\n",
    "                            successPage == \"pdp\" or successPage == \"atb\" or successPage == \"order\" or successPage == \"bag\"):\n",
    "                            break\n",
    "                        else :\n",
    "                            print(\"\\n You have entered  wrong input. Please enter any one from options below.\")\n",
    "                            printmd(\"****The possible success pages for homepage are:\\n 1. search \\n 2. browse \\n 3. pdp \\n 4. atb \\n 5. order \\n 6. Bag****\")\n",
    "                            break\n",
    "                            \n",
    "                    while landingPage == \"bag\":\n",
    "                        successPage = user.lower().replace(\" \",\"\")\n",
    "                        if (successPage == \"order\"):\n",
    "                            break\n",
    "                        else :\n",
    "                            print(\"\\n You have entered  wrong input. The possible success pages for bag is order page.Enter 'order'\")\n",
    "                            break\n",
    "                            \n",
    "                    while landingPage == \"search\":\n",
    "                        successPage = user.lower().replace(\" \",\"\")\n",
    "                        if (successPage == \"pdp\" or successPage == \"atb\" or successPage == \"order\" or successPage == \"bag\"):\n",
    "                            break\n",
    "                        else :\n",
    "                            print(\"\\n You have entered  wrong input. Please enter any one from options below.\")\n",
    "                            printmd(\"****The possible success pages for homepage are:\\n 1. pdp \\n 2. atb \\n 3. order \\n 4. Bag****\")\n",
    "                            break\n",
    "                            \n",
    "                    while landingPage == \"browse\":\n",
    "                        successPage = user.lower().replace(\" \",\"\")\n",
    "                        if (successPage == \"pdp\" or successPage == \"atb\" or successPage == \"order\" or successPage == \"bag\"):\n",
    "                            break\n",
    "                        else :\n",
    "                            print(\"\\n You have entered  wrong input. Please enter any one from options below.\")\n",
    "                            printmd(\"****The possible success pages for homepage are:\\n 1. pdp \\n 2. atb \\n 3. order \\n 4. bag****\")\n",
    "                            break\n",
    "                            \n",
    "                    while landingPage == \"pdp\":\n",
    "                        successPage = user.lower().replace(\" \",\"\")\n",
    "                        if (successPage == \"atb\" or successPage == \"order\" or successPage == \"bag\"):\n",
    "                            break\n",
    "                        else :\n",
    "                            print(\"\\n You have entered  wrong input. Please enter any one from options below.\")\n",
    "                            printmd(\"****The possible success pages for homepage are:\\n 1. atb \\n 2. order \\n 3. bag****\")\n",
    "                            break\n",
    "                            \n",
    "                    while landingPage == \"atb\":\n",
    "                        successPage = user.lower().replace(\" \",\"\")\n",
    "                        if (successPage == \"bag\" or successPage == \"order\"):\n",
    "                            break\n",
    "                        else :\n",
    "                            print(\"\\n You have entered  wrong input. Please enter any one from options below.\")\n",
    "                            printmd(\"****The possible success pages for homepage are:\\n 1. bag \\n 2. order****\")\n",
    "                            break\n",
    "                            \n",
    "                    user_int = int(bagOfVisits.success(device_inp,successPage,landingPage,month_name))\n",
    "                    outputs[key]=user_int\n",
    "                    printmd(\"***Total Visits of {}: {}***\".format(user,user_int))\n",
    "                    break\n",
    "                    \n",
    "                elif key=='ndays':\n",
    "                    user_int = bagOfVisits.landing(device_inp,landingPage,month_name)[1]\n",
    "                    mapping_table = pd.read_csv('month_mapping.csv')\n",
    "                    a,b,c,prevMont,curMonth,nextMmonth,table = bagOfVisits.month(mapping_table,month_name)\n",
    "                    outputs[key]=int(user_int)\n",
    "                    print(\"**********************************************************************\")\n",
    "                    printmd('****%s****'% value)\n",
    "                    print(str(user_int))\n",
    "                    print(\"Previous Month: {} \\t Current Month: {} \\t  Next Month: {} \\t  \\n \\n\".format(prevMont,curMonth,nextMmonth))\n",
    "                    print(\"\\n\")\n",
    "                    printmd(\"\\n ****Fiscal Previous & Next Month Mapping Table**** \\n\")\n",
    "                    print(table)\n",
    "                    print(\"**********************************************************************\")\n",
    "                    break\n",
    "                \n",
    "                elif key != 'nsessions' or 'nsuccess':\n",
    "                    printmd('\\n ****Question:**** \\n')\n",
    "                    user_int=int(input(value).replace(',',''))\n",
    "                    if user_int<=1:\n",
    "                        print(\"Please enter a number greater than one...\", '\\n')\n",
    "                        continue\n",
    "                    else:\n",
    "                        print(\"Accepted: {} \".format(user_int), '\\n')\n",
    "                        counts+=1\n",
    "                        outputs[key]=user_int\n",
    "                        break\n",
    "            except Exception as e:\n",
    "                print(\"Error: {}\".format(e))\n",
    "                print(\"Please enter a valid number...\", '\\n')\n",
    "                continue\n",
    "    if outputs.get('maxdays') <= outputs.get('mindays'):\n",
    "        print(\"Warning: Max Days {} is <= Min Days {}\".format(outputs.get('maxdays'),outputs.get('mindays')))\n",
    "        print(\"Will reset to 14-28...\")\n",
    "        outputs['mindays']=14\n",
    "        outputs['maxdays']=28\n",
    "    else:\n",
    "        pass\n",
    "    try:\n",
    "        baseline_conversion_rate=round(outputs.get('nsuccess')/outputs.get('nsessions'),6)\n",
    "        if baseline_conversion_rate>=1:\n",
    "            print(\"Warning: Baseline conversion is {}. This cannot exceed 1... ending program.\".format(baseline_conversion_rate))\n",
    "            print('\\n','\\n','\\n')\n",
    "            print(\"Program Terminated\")\n",
    "            exit(1)\n",
    "        else:\n",
    "            outputs['baseline_conversion_rate']=baseline_conversion_rate\n",
    "            outputs['sessions_per_day']=round(outputs.get('nsessions')/outputs.get('ndays'))\n",
    "            print(\"Accepted! Here are you input values: \", '\\n')\n",
    "            for key, value in outputs.items():\n",
    "                print(key, value)\n",
    "            print('\\n')\n",
    "            return outputs\n",
    "    except Exception as e:\n",
    "        raise e\n",
    "\n",
    "\n",
    "\n",
    "def get_user_variables():\n",
    "    inputs={\"narms\": \"How many ARMS are in the experiment (Control + All treatments)?  \",\n",
    "            \"nsessions\": \"How many SESSIONS did your historical data have? (commas accepted)  \",\n",
    "            \"nsuccess\": \"How many SUCCESSES did your historical data have? (commas accepted)  \",\n",
    "            \"ndays\": \"How many DAYS did this historical data span for?  \",\n",
    "            \"mindays\": \"What is the MINIMUM number of days that you think your test should run for? (Usually 14)  \",\n",
    "            \"maxdays\": \"What is the MAXIMUM number of days that you think the test should run for? (Usually 28)  \"}\n",
    "\n",
    "    outputs={\"narms\": None,\n",
    "             \"nsessions\": None,\n",
    "             \"nsuccess\": None,\n",
    "             \"ndays\": None,\n",
    "             \"mindays\": None,\n",
    "             \"maxdays\": None}\n",
    "    counts=0\n",
    "    for key, value in inputs.items():\n",
    "        print('\\n','Question # {}: '.format(counts+1),'\\n')\n",
    "        while counts<len(outputs):\n",
    "            try:\n",
    "                user_=input(value)\n",
    "                user_int=int(user_.replace(',',''))\n",
    "                if user_int<=1:\n",
    "                    print(\"Please enter a number greater than one...\", '\\n')\n",
    "                    continue\n",
    "                else:\n",
    "                    print(\"Accepted: {} \".format(user_int), '\\n')\n",
    "                    counts+=1\n",
    "                    outputs[key]=user_int\n",
    "                    break\n",
    "            except Exception as e:\n",
    "                print(\"Error: {}\".format(e))\n",
    "                print(\"Please enter a valid number...\", '\\n')\n",
    "                continue\n",
    "    if outputs.get('maxdays') <= outputs.get('mindays'):\n",
    "        print(\"Warning: Max Days {} is <= Min Days {}\".format(outputs.get('maxdays'),outputs.get('mindays')))\n",
    "        print(\"Will reset to 14-28...\")\n",
    "        outputs['mindays']=14\n",
    "        outputs['maxdays']=28\n",
    "    else:\n",
    "        pass\n",
    "    try:\n",
    "        baseline_conversion_rate=round(outputs.get('nsuccess')/outputs.get('nsessions'),6)\n",
    "        if baseline_conversion_rate>=1:\n",
    "            print(\"Warning: Baseline conversion is {}. This cannot exceed 1... ending program.\".format(baseline_conversion_rate))\n",
    "            print('\\n','\\n','\\n')\n",
    "            print(\"Program Terminated\")\n",
    "            exit(1)\n",
    "        else:\n",
    "            outputs['baseline_conversion_rate']=baseline_conversion_rate\n",
    "            outputs['sessions_per_day']=round(outputs.get('nsessions')/outputs.get('ndays'))\n",
    "            print(\"Accepted! Here are you input values: \", '\\n')\n",
    "            for key, value in outputs.items():\n",
    "                print(key, value)\n",
    "            print('\\n')\n",
    "            return outputs\n",
    "    except Exception as e:\n",
    "        raise e\n",
    "\n",
    "def get_lifts_splits(max_split):\n",
    "    inputs={\"lift\": \"Is there a specific LIFT value you want to measure? (Yes/No)  \",\n",
    "            \"split\": \"Is there a specific SPLIT value you want to measure? (Yes/No)  \"}\n",
    "    outputs={\"lift\":None, \"split\":None}\n",
    "    counts=0\n",
    "    for key,value in inputs.items():\n",
    "        while counts<len(outputs)+1:\n",
    "            try:\n",
    "                user_=input(value)\n",
    "                if user_.upper()=='YES' or user_.upper()=='Y':\n",
    "                    specific_=input(\"Please input a raw decimal value (without % sign):    \")\n",
    "                    try:\n",
    "                        print(specific_)\n",
    "                        specific_float=float(specific_)\n",
    "                        if specific_float > max_split and key=='split':\n",
    "                            print(\"Warning!! Split entered is greater than the max split allowed... please enter a split value less than or equeal to {}   \".format(max_split))\n",
    "                            continue\n",
    "                        elif specific_float <= 0:\n",
    "                            print(\"Please enter a value greater than zero!  \")\n",
    "                            continue\n",
    "                        else:\n",
    "                            counts+=1\n",
    "                            outputs[key]=[specific_float]\n",
    "                            print(\"Accepted: {}\".format(specific_float), \"\\n\")\n",
    "                            break\n",
    "                    except Exception as e:\n",
    "                        print(\"Error! Please enter a valid decimal value, ex. 2.5% would be 0.025.\")\n",
    "                        print(e)\n",
    "                        continue\n",
    "\n",
    "                elif user_.upper()=='NO' or user_.upper()=='N':\n",
    "                    print(\"Ok, a range of values will be provided then...   \", \"\\n\")\n",
    "                    if key=='lift':\n",
    "                        lifts = [round(0.005*(i+1)/10,4) for i in range(100)] \n",
    "                        outputs[key]=lifts\n",
    "                        print(lifts)\n",
    "                        counts+=1\n",
    "                        break\n",
    "                    elif key=='split':\n",
    "                        splits = get_splits(max_split)\n",
    "                        outputs[key]=splits\n",
    "                        print(splits)\n",
    "                        counts+=1\n",
    "                        break\n",
    "                    else:\n",
    "                        break\n",
    "                else:\n",
    "                    print(\"Sorry, user input {} was not understood... let's try that again... \".format(user_), '\\n')\n",
    "                    continue\n",
    "            except Exception as e:\n",
    "                print(e)\n",
    "                print(\"Sorry, someting went wrong... let's try that again... \",'\\n')\n",
    "                continue\n",
    "    return outputs\n",
    "\n",
    "\n",
    "def run_power_analysis(userdata, ls, maxsplit):\n",
    "    narms=userdata.get('narms')\n",
    "    mindays=int(userdata.get('mindays'))\n",
    "    maxdays=int(userdata.get('maxdays'))\n",
    "    baseline_conversion_rate=userdata.get('baseline_conversion_rate')\n",
    "    sessions_per_day=userdata.get('sessions_per_day')\n",
    "    lifts=ls.get('lift')\n",
    "    splits=ls.get('split')\n",
    "\n",
    "    name_of_experiment=input(\"What is the name of your experiment?  \")\n",
    "    print('\\n', 'Generating Report... Please wait...','\\n')\n",
    "    df = generate_df(baseline_conversion_rate,lifts,splits,sessions_per_day)\n",
    "    df2 = filter_on_day_length(df,mindays,maxdays)\n",
    "    if len(df2.index)>0:\n",
    "        print(\"The experiment: {}, has {} arms.\".format(name_of_experiment, narms),'\\n')\n",
    "        print(\"The maximum split you can have per group is {0:.2%}\".format(maxsplit),'\\n')\n",
    "        print(\"The baseline conversion rate is {0:.2%}.\".format(baseline_conversion_rate),'\\n')\n",
    "        df2.to_csv(\"Filtered Power Analysis for {} with {} groups.csv\".format(name_of_experiment,narms),index=None)\n",
    "        df.to_csv(\"Unfiltered Power Analysis for {} with {} groups.csv\".format(name_of_experiment,narms),index=None)\n",
    "        print(\"Filtered and Unfiltered results have been saved to CSV!\",'\\n')\n",
    "        print(\"Snapshot also shown below.\",'\\n','\\n')\n",
    "        return df2\n",
    "    else:\n",
    "        print('Warning!! Unable to conduct power analysis within the spcified time frame','\\n')\n",
    "        print('All possible values, if any, will be returned for your consideration.','\\n')\n",
    "        df.to_csv(\"Power Analysis - All values - for {} with {} groups.csv\".format(name_of_experiment,narms),index=None)\n",
    "        return df\n",
    "\n",
    "def main_power_analysis():\n",
    "    \n",
    "    while True:\n",
    "        printmd(\"\\n ****Do you want to run Standardized or Non-Standardized Experiment?****\\n\")\n",
    "        type_of_inp = int(input(\"Enter 1 for Non-Standardized input (i.e., Manual Entry) \\\n",
    "        \\nEnter 2 for Standardized input  \"))\n",
    "        if type_of_inp == 1:\n",
    "            data=get_user_variables()\n",
    "            break\n",
    "        elif type_of_inp ==2:\n",
    "            data=get_user_variables_automated()\n",
    "            break\n",
    "        else: \n",
    "            print(\"You have selected wrong option\")\n",
    "            continue\n",
    "            \n",
    "    maxsplit=get_max_split(data.get('narms'))\n",
    "    lift_splits=get_lifts_splits(maxsplit)\n",
    "    df2=run_power_analysis(userdata=data,ls=lift_splits,maxsplit=maxsplit)\n",
    "    print(df2)\n",
    "\n",
    "\n",
    "if __name__ == '__main__':\n",
    "    main_power_analysis()"
   ]
  },
  {
   "cell_type": "code",
   "execution_count": null,
   "metadata": {},
   "outputs": [],
   "source": []
  }
 ],
 "metadata": {
  "kernelspec": {
   "display_name": "Python 3",
   "language": "python",
   "name": "python3"
  },
  "language_info": {
   "codemirror_mode": {
    "name": "ipython",
    "version": 3
   },
   "file_extension": ".py",
   "mimetype": "text/x-python",
   "name": "python",
   "nbconvert_exporter": "python",
   "pygments_lexer": "ipython3",
   "version": "3.7.3"
  }
 },
 "nbformat": 4,
 "nbformat_minor": 2
}
