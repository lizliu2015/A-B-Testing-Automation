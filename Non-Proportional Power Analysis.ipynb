{
 "cells": [
  {
   "cell_type": "code",
   "execution_count": 2,
   "metadata": {},
   "outputs": [],
   "source": [
    "import import_ipynb\n",
    "from backend_nonproportional import *\n",
    "import statsmodels.stats.api as sms\n",
    "import statsmodels.stats.power as pwr\n",
    "import pandas as pd\n",
    "import numpy as np\n",
    "from IPython.display import Markdown, display"
   ]
  },
  {
   "cell_type": "code",
   "execution_count": 3,
   "metadata": {},
   "outputs": [
    {
     "data": {
      "text/plain": [
       "'!pip install feather-format \\n!pip install import_ipynb\\n!pip install statsmodels\\n!pip install pandas\\n!pip install numpy'"
      ]
     },
     "execution_count": 3,
     "metadata": {},
     "output_type": "execute_result"
    }
   ],
   "source": [
    "#Install all packages if no module found.Please comment it out once the package is intalled\n",
    "'''!pip install feather-format \n",
    "!pip install import_ipynb\n",
    "!pip install statsmodels\n",
    "!pip install pandas\n",
    "!pip install numpy'''"
   ]
  },
  {
   "cell_type": "code",
   "execution_count": 4,
   "metadata": {
    "scrolled": false
   },
   "outputs": [
    {
     "data": {
      "text/markdown": [
       "\n",
       " ****Do you want to run Standardized or Non-Standardized Experiment?****\n"
      ],
      "text/plain": [
       "<IPython.core.display.Markdown object>"
      ]
     },
     "metadata": {},
     "output_type": "display_data"
    },
    {
     "name": "stdout",
     "output_type": "stream",
     "text": [
      "Enter 1 for Non-Standardized input (i.e., Manual Entry)     \n",
      "Enter 2 for Standardized input  2\n"
     ]
    },
    {
     "data": {
      "text/markdown": [
       "\n",
       " ****Question:**** \n"
      ],
      "text/plain": [
       "<IPython.core.display.Markdown object>"
      ]
     },
     "metadata": {},
     "output_type": "display_data"
    },
    {
     "name": "stdout",
     "output_type": "stream",
     "text": [
      "Please enter the metric for which analysis has to be done? :\n",
      " 1 for RPS (Revenue Per Session) \n",
      " 2 for AOV (Average Order Value) \n",
      " 3 for RPV (Revenue per visitor) \n",
      " 4 for UPO (Units per order) \n",
      "1\n"
     ]
    },
    {
     "data": {
      "text/markdown": [
       "\n",
       " ****Question:**** \n"
      ],
      "text/plain": [
       "<IPython.core.display.Markdown object>"
      ]
     },
     "metadata": {},
     "output_type": "display_data"
    },
    {
     "name": "stdout",
     "output_type": "stream",
     "text": [
      "Select the device:\n",
      " 1 for Desktop \n",
      " 2 for Mobile App\n",
      " 3 for Mobile Web\n",
      " 4 for Tablet: 1\n"
     ]
    },
    {
     "data": {
      "text/markdown": [
       "\n",
       " ****Question:**** \n"
      ],
      "text/plain": [
       "<IPython.core.display.Markdown object>"
      ]
     },
     "metadata": {},
     "output_type": "display_data"
    },
    {
     "name": "stdout",
     "output_type": "stream",
     "text": [
      "Enter the month of the experiment: September\n"
     ]
    },
    {
     "data": {
      "text/markdown": [
       "\n",
       " ****Question:**** \n"
      ],
      "text/plain": [
       "<IPython.core.display.Markdown object>"
      ]
     },
     "metadata": {},
     "output_type": "display_data"
    },
    {
     "name": "stdout",
     "output_type": "stream",
     "text": [
      "How many ARMS are in the experiment (Control + All treatments)?  2\n",
      "Accepted: 2  \n",
      "\n"
     ]
    },
    {
     "data": {
      "text/markdown": [
       "\n",
       " ****Question:**** \n"
      ],
      "text/plain": [
       "<IPython.core.display.Markdown object>"
      ]
     },
     "metadata": {},
     "output_type": "display_data"
    },
    {
     "name": "stdout",
     "output_type": "stream",
     "text": [
      "Please enter the page name where experiment has to run  homepage\n"
     ]
    },
    {
     "data": {
      "text/markdown": [
       "***Total Visits of homepage: 38348730***"
      ],
      "text/plain": [
       "<IPython.core.display.Markdown object>"
      ]
     },
     "metadata": {},
     "output_type": "display_data"
    },
    {
     "name": "stdout",
     "output_type": "stream",
     "text": [
      "\n",
      "\n"
     ]
    },
    {
     "data": {
      "text/markdown": [
       "****The MEAN (AVERAGE) of your data:  ****"
      ],
      "text/plain": [
       "<IPython.core.display.Markdown object>"
      ]
     },
     "metadata": {},
     "output_type": "display_data"
    },
    {
     "name": "stdout",
     "output_type": "stream",
     "text": [
      "140.397677702\n",
      "\n",
      "\n"
     ]
    },
    {
     "data": {
      "text/markdown": [
       "****The Standard Deviation of your data:  ****"
      ],
      "text/plain": [
       "<IPython.core.display.Markdown object>"
      ]
     },
     "metadata": {},
     "output_type": "display_data"
    },
    {
     "name": "stdout",
     "output_type": "stream",
     "text": [
      "225.350401853856\n",
      "\n",
      "\n",
      "**********************************************************************\n"
     ]
    },
    {
     "data": {
      "text/markdown": [
       "****Number of DAYS historical data span for:  ****"
      ],
      "text/plain": [
       "<IPython.core.display.Markdown object>"
      ]
     },
     "metadata": {},
     "output_type": "display_data"
    },
    {
     "name": "stdout",
     "output_type": "stream",
     "text": [
      "90\n",
      "Previous Month: august \t Current Month: september \t  Next Month: october \t  \n",
      " \n",
      "\n",
      "\n",
      "\n"
     ]
    },
    {
     "data": {
      "text/markdown": [
       "\n",
       " ****Fiscal Previous & Next Month Mapping Table**** \n"
      ],
      "text/plain": [
       "<IPython.core.display.Markdown object>"
      ]
     },
     "metadata": {},
     "output_type": "display_data"
    },
    {
     "name": "stdout",
     "output_type": "stream",
     "text": [
      "    Current Month Number Current Month Name  Previous Month Number  \\\n",
      "0                      1           february                     12   \n",
      "1                      2              march                      1   \n",
      "2                      3              april                      2   \n",
      "3                      4                may                      3   \n",
      "4                      5               june                      4   \n",
      "5                      6               july                      5   \n",
      "6                      7             august                      6   \n",
      "7                      8          september                      7   \n",
      "8                      9            october                      8   \n",
      "9                     10           november                      9   \n",
      "10                    11           december                     10   \n",
      "11                    12            january                      0   \n",
      "\n",
      "    Next Month Number Previous Month Name     Next Month Name  \n",
      "0                   2             january               march  \n",
      "1                   3            february               april  \n",
      "2                   4               march                 may  \n",
      "3                   5               april                june  \n",
      "4                   6                 may                july  \n",
      "5                   7                june              august  \n",
      "6                   8                july           september  \n",
      "7                   9              august             october  \n",
      "8                   0           september  Data Not Available  \n",
      "9                  11             october            december  \n",
      "10                 12            november             january  \n",
      "11                  1  Data Not Available            february  \n",
      "**********************************************************************\n"
     ]
    },
    {
     "data": {
      "text/markdown": [
       "\n",
       " ****Question:**** \n"
      ],
      "text/plain": [
       "<IPython.core.display.Markdown object>"
      ]
     },
     "metadata": {},
     "output_type": "display_data"
    },
    {
     "name": "stdout",
     "output_type": "stream",
     "text": [
      "What is the MINIMUM number of days that you think your test should run for? (Usually 14)  2\n",
      "Accepted: 2  \n",
      "\n"
     ]
    },
    {
     "data": {
      "text/markdown": [
       "\n",
       " ****Question:**** \n"
      ],
      "text/plain": [
       "<IPython.core.display.Markdown object>"
      ]
     },
     "metadata": {},
     "output_type": "display_data"
    },
    {
     "name": "stdout",
     "output_type": "stream",
     "text": [
      "What is the MAXIMUM number of days that you think the test should run for? (Usually 28)  28\n",
      "Accepted: 28  \n",
      "\n",
      "Accepted! Here are you input values:  \n",
      "\n",
      "narms 2\n",
      "nsessions 38348730\n",
      "mean 140.397677702\n",
      "std_dev 225.350401853856\n",
      "ndays 90\n",
      "mindays 2\n",
      "maxdays 28\n",
      "sessions_per_day 426097\n",
      "\n",
      "\n",
      "Is there a specific LIFT value you want to measure? (Yes/No)  no\n",
      "Ok, a range of values will be provided then...    \n",
      "\n",
      "[0.0005, 0.001, 0.0015, 0.002, 0.0025, 0.003, 0.0035, 0.004, 0.0045, 0.005, 0.0055, 0.006, 0.0065, 0.007, 0.0075, 0.008, 0.0085, 0.009, 0.0095, 0.01, 0.0105, 0.011, 0.0115, 0.012, 0.0125, 0.013, 0.0135, 0.014, 0.0145, 0.015, 0.0155, 0.016, 0.0165, 0.017, 0.0175, 0.018, 0.0185, 0.019, 0.0195, 0.02, 0.0205, 0.021, 0.0215, 0.022, 0.0225, 0.023, 0.0235, 0.024, 0.0245, 0.025, 0.0255, 0.026, 0.0265, 0.027, 0.0275, 0.028, 0.0285, 0.029, 0.0295, 0.03, 0.0305, 0.031, 0.0315, 0.032, 0.0325, 0.033, 0.0335, 0.034, 0.0345, 0.035, 0.0355, 0.036, 0.0365, 0.037, 0.0375, 0.038, 0.0385, 0.039, 0.0395, 0.04, 0.0405, 0.041, 0.0415, 0.042, 0.0425, 0.043, 0.0435, 0.044, 0.0445, 0.045, 0.0455, 0.046, 0.0465, 0.047, 0.0475, 0.048, 0.0485, 0.049, 0.0495, 0.05]\n",
      "Is there a specific SPLIT value you want to measure? (Yes/No)  no\n",
      "Ok, a range of values will be provided then...    \n",
      "\n",
      "[0.01, 0.02, 0.05, 0.1, 0.15, 0.2, 0.25, 0.3, 0.35, 0.4, 0.45, 0.5]\n",
      "What is the name of your experiment?  test1\n",
      "\n",
      " Generating Report... Please wait... \n",
      "\n",
      "The experiment: test1, has 2 arms. \n",
      "\n",
      "The maximum split you can have per group is 50.00% \n",
      "\n",
      "Filtered and Unfiltered results have been saved to CSV! \n",
      "\n",
      "Snapshot also shown below. \n",
      " \n",
      "\n",
      "        lift  split  sample_size_per_arm        mean  \\\n",
      "1045  0.0440   0.02              20890.0  140.397678   \n",
      "1057  0.0445   0.02              20424.0  140.397678   \n",
      "1069  0.0450   0.02              19972.0  140.397678   \n",
      "1081  0.0455   0.02              19536.0  140.397678   \n",
      "1093  0.0460   0.02              19113.0  140.397678   \n",
      "1105  0.0465   0.02              18705.0  140.397678   \n",
      "1117  0.0470   0.02              18309.0  140.397678   \n",
      "1129  0.0475   0.02              17925.0  140.397678   \n",
      "1141  0.0480   0.02              17554.0  140.397678   \n",
      "1153  0.0485   0.02              17194.0  140.397678   \n",
      "1165  0.0490   0.02              16845.0  140.397678   \n",
      "1177  0.0495   0.02              16506.0  140.397678   \n",
      "1189  0.0500   0.02              16178.0  140.397678   \n",
      "662   0.0280   0.05              51585.0  140.397678   \n",
      "674   0.0285   0.05              49791.0  140.397678   \n",
      "686   0.0290   0.05              48089.0  140.397678   \n",
      "698   0.0295   0.05              46473.0  140.397678   \n",
      "710   0.0300   0.05              44937.0  140.397678   \n",
      "722   0.0305   0.05              43475.0  140.397678   \n",
      "734   0.0310   0.05              42084.0  140.397678   \n",
      "746   0.0315   0.05              40759.0  140.397678   \n",
      "758   0.0320   0.05              39495.0  140.397678   \n",
      "770   0.0325   0.05              38289.0  140.397678   \n",
      "782   0.0330   0.05              37138.0  140.397678   \n",
      "794   0.0335   0.05              36038.0  140.397678   \n",
      "806   0.0340   0.05              34985.0  140.397678   \n",
      "818   0.0345   0.05              33979.0  140.397678   \n",
      "830   0.0350   0.05              33015.0  140.397678   \n",
      "842   0.0355   0.05              32091.0  140.397678   \n",
      "459   0.0195   0.10             106358.0  140.397678   \n",
      "...      ...    ...                  ...         ...   \n",
      "81    0.0035   0.40            3301395.0  140.397678   \n",
      "516   0.0220   0.01              83559.0  140.397678   \n",
      "361   0.0155   0.02             168334.0  140.397678   \n",
      "91    0.0040   0.30            2527631.0  140.397678   \n",
      "504   0.0215   0.01              87491.0  140.397678   \n",
      "349   0.0150   0.02             179744.0  140.397678   \n",
      "218   0.0095   0.05             448113.0  140.397678   \n",
      "124   0.0055   0.15            1336929.0  140.397678   \n",
      "71    0.0030   0.50            4493565.0  140.397678   \n",
      "492   0.0210   0.01              91706.0  140.397678   \n",
      "147   0.0065   0.10             957210.0  140.397678   \n",
      "80    0.0035   0.35            3301395.0  140.397678   \n",
      "480   0.0205   0.01              96234.0  140.397678   \n",
      "337   0.0145   0.02             192353.0  140.397678   \n",
      "206   0.0090   0.05             499286.0  140.397678   \n",
      "101   0.0045   0.20            1997141.0  140.397678   \n",
      "70    0.0030   0.45            4493565.0  140.397678   \n",
      "468   0.0200   0.01             101106.0  140.397678   \n",
      "325   0.0140   0.02             206338.0  140.397678   \n",
      "90    0.0040   0.25            2527631.0  140.397678   \n",
      "456   0.0195   0.01             106358.0  140.397678   \n",
      "112   0.0050   0.15            1617684.0  140.397678   \n",
      "444   0.0190   0.01             112029.0  140.397678   \n",
      "313   0.0135   0.02             221905.0  140.397678   \n",
      "194   0.0085   0.05             559753.0  140.397678   \n",
      "135   0.0060   0.10            1123392.0  140.397678   \n",
      "79    0.0035   0.30            3301395.0  140.397678   \n",
      "69    0.0030   0.40            4493565.0  140.397678   \n",
      "432   0.0185   0.01             118166.0  140.397678   \n",
      "301   0.0130   0.02             239303.0  140.397678   \n",
      "\n",
      "      minimum_detectable_effect  days_to_run  \n",
      "1045                 146.575176          2.0  \n",
      "1057                 146.645374          2.0  \n",
      "1069                 146.715573          2.0  \n",
      "1081                 146.785772          2.0  \n",
      "1093                 146.855971          2.0  \n",
      "1105                 146.926170          2.0  \n",
      "1117                 146.996369          2.0  \n",
      "1129                 147.066567          2.0  \n",
      "1141                 147.136766          2.0  \n",
      "1153                 147.206965          2.0  \n",
      "1165                 147.277164          2.0  \n",
      "1177                 147.347363          2.0  \n",
      "1189                 147.417562          2.0  \n",
      "662                  144.328813          2.0  \n",
      "674                  144.399012          2.0  \n",
      "686                  144.469210          2.0  \n",
      "698                  144.539409          2.0  \n",
      "710                  144.609608          2.0  \n",
      "722                  144.679807          2.0  \n",
      "734                  144.750006          2.0  \n",
      "746                  144.820205          2.0  \n",
      "758                  144.890403          2.0  \n",
      "770                  144.960602          2.0  \n",
      "782                  145.030801          2.0  \n",
      "794                  145.101000          2.0  \n",
      "806                  145.171199          2.0  \n",
      "818                  145.241398          2.0  \n",
      "830                  145.311596          2.0  \n",
      "842                  145.381795          2.0  \n",
      "459                  143.135432          2.0  \n",
      "...                         ...          ...  \n",
      "81                   140.889070         19.0  \n",
      "516                  143.486427         20.0  \n",
      "361                  142.573842         20.0  \n",
      "91                   140.959268         20.0  \n",
      "504                  143.416228         21.0  \n",
      "349                  142.503643         21.0  \n",
      "218                  141.731456         21.0  \n",
      "124                  141.169865         21.0  \n",
      "71                   140.818871         21.0  \n",
      "492                  143.346029         22.0  \n",
      "147                  141.310263         22.0  \n",
      "80                   140.889070         22.0  \n",
      "480                  143.275830         23.0  \n",
      "337                  142.433444         23.0  \n",
      "206                  141.661257         23.0  \n",
      "101                  141.029467         23.0  \n",
      "70                   140.818871         23.0  \n",
      "468                  143.205631         24.0  \n",
      "325                  142.363245         24.0  \n",
      "90                   140.959268         24.0  \n",
      "456                  143.135432         25.0  \n",
      "112                  141.099666         25.0  \n",
      "444                  143.065234         26.0  \n",
      "313                  142.293046         26.0  \n",
      "194                  141.591058         26.0  \n",
      "135                  141.240064         26.0  \n",
      "79                   140.889070         26.0  \n",
      "69                   140.818871         26.0  \n",
      "432                  142.995035         28.0  \n",
      "301                  142.222848         28.0  \n",
      "\n",
      "[414 rows x 6 columns]\n"
     ]
    }
   ],
   "source": [
    "\n",
    "def printmd(string):\n",
    "    display(Markdown(string))\n",
    "\n",
    "\n",
    "def get_sample_size(u1,lift,std_dev):\n",
    "\n",
    "    effect_size = abs((u1-((lift+ 1 ) * u1))/ std_dev)\n",
    "    sample_size = pwr.tt_ind_solve_power(effect_size, nobs1=None, alpha=.05, power=0.8, ratio=1)\n",
    "\n",
    "    return round(sample_size)\n",
    "\n",
    "def get_splits(max_split):\n",
    "    splits = [0.01,0.02]\n",
    "    for i in range(10):\n",
    "        new_split=round(0.05*(i+1),4)\n",
    "        if new_split<max_split:\n",
    "            splits.append(new_split)\n",
    "        else:\n",
    "            splits.append(max_split)\n",
    "            break\n",
    "    splits.sort()\n",
    "    return splits\n",
    "\n",
    "def generate_df(mean,std_dev,lifts,splits,sessions_per_day):\n",
    "    sample_sizes = np.array([(lift, split, get_sample_size(mean,lift,std_dev)) for lift in lifts for split in splits])\n",
    "    df = pd.DataFrame(sample_sizes, columns=[\"lift\", \"split\", \"sample_size_per_arm\"])\n",
    "    df['mean']=mean\n",
    "    df['minimum_detectable_effect']=mean*(1+df['lift'])\n",
    "    df['days_to_run']=round(df['sample_size_per_arm']/(sessions_per_day*(df['split'])))\n",
    "    return df\n",
    "\n",
    "def filter_on_day_length(df,mindays,maxdays):\n",
    "    df2 = df[(df[\"days_to_run\"]>=mindays) & (df[\"days_to_run\"]<=maxdays)]\n",
    "    df2 = df2.sort_values(by=['days_to_run','split'])\n",
    "    return df2\n",
    "\n",
    "\n",
    "def get_max_split(narms):\n",
    "    max_split = round(1/narms,2)\n",
    "    return(max_split)\n",
    "#######\n",
    "\n",
    "def get_user_variables_automated():\n",
    "    inputs={\"narms\": \"How many ARMS are in the experiment (Control + All treatments)?  \",\n",
    "            \"nsessions\": \"Please enter the page name where experiment has to run  \",\n",
    "            \"mean\": \"The MEAN (AVERAGE) of your data:  \",\n",
    "            \"std_dev\": \"The Standard Deviation of your data:  \",\n",
    "            \"ndays\": \"Number of DAYS historical data span for:  \",\n",
    "            \"mindays\": \"What is the MINIMUM number of days that you think your test should run for? (Usually 14)  \",\n",
    "            \"maxdays\": \"What is the MAXIMUM number of days that you think the test should run for? (Usually 28)  \"}\n",
    "\n",
    "    outputs={\"narms\": None,\n",
    "             \"nsessions\": None,\n",
    "             \"mean\": None,\n",
    "             \"std_dev\": None,\n",
    "             \"ndays\": None,\n",
    "             \"mindays\": None,\n",
    "             \"maxdays\": None}\n",
    "    counts=0\n",
    "    \n",
    "    #####\n",
    "    counter_inp = 1\n",
    "    \n",
    "    while True:\n",
    "        \n",
    "        printmd('\\n ****Question:**** \\n')\n",
    "        metric = int(input(\"Please enter the metric for which analysis has to be done? :\\n 1 for RPS (Revenue Per Session) \\n 2 for AOV (Average Order Value) \\n 3 for RPV (Revenue per visitor) \\n 4 for UPO (Units per order) \\n\"))\n",
    "        \n",
    "        if(metric == 1 or metric == 2 or metric == 3 or metric == 4):\n",
    "            break\n",
    "            \n",
    "        else:\n",
    "            print(\"You Entered Wrong Option. Please enter the right option, Example: 1 \")\n",
    "            continue\n",
    "    \n",
    "    while True:\n",
    "        \n",
    "        printmd('\\n ****Question:**** \\n')\n",
    "        device_inp = int(input(\"Select the device:\\n 1 for Desktop \\n 2 for Mobile App\\n 3 for Mobile Web\\n 4 for Tablet: \"))\n",
    "\n",
    "        if(device_inp == 1 or device_inp == 2 or device_inp == 3 or device_inp == 4):\n",
    "            break\n",
    "            \n",
    "        else:\n",
    "            print(\"You Entered Wrong Option. Please enter the right option, Example: 1 \")\n",
    "            continue\n",
    "            \n",
    "    while True:\n",
    "        \n",
    "        printmd('\\n ****Question:**** \\n')\n",
    "        month_name = input(\"Enter the month of the experiment: \")\n",
    "        month_name = month_name.lower()\n",
    "        counter_inp = counter_inp + 1\n",
    "        \n",
    "        if(month_name == \"november\" or month_name == \"december\"):\n",
    "            print(\"You have entered an invalid month. Please try entering a month from january to October\")\n",
    "            continue\n",
    "            \n",
    "        elif month_name == \"january\" or month_name == \"february\" or month_name == \"march\" or \\\n",
    "        month_name == \"april\" or month_name == \"may\" or month_name == \"june\" or month_name == \"july\" or month_name \\\n",
    "        == \"august\" or month_name == \"september\" or month_name == \"october\":\n",
    "            break\n",
    "            \n",
    "        else:\n",
    "            print(\"You entered wrong input. Please try entering a month from january to October, Example: 'march'\")\n",
    "            continue\n",
    "\n",
    "    ####\n",
    "    for key, value in inputs.items():\n",
    "        while counts<len(outputs):\n",
    "            try:\n",
    "                \n",
    "                if key == 'nsessions':\n",
    "                    printmd('\\n ****Question:**** \\n')\n",
    "                    user=input(value)\n",
    "                    \n",
    "                    while True:\n",
    "                        landingPage = user.lower().replace(\" \",\"\")\n",
    "                        if (landingPage == \"search\" or landingPage == \"browse\" or \\\n",
    "                            landingPage == \"pdp\" or landingPage == \"atb\" or landingPage == \"bag\" or landingPage == \"homepage\"):\n",
    "                            break\n",
    "                        else :\n",
    "                            print(\"\\n You have entered  wrong input. Please enter any one from options below.\")\n",
    "                            printmd(\"****The possible landing pages are:\\n 1. homepage \\n 2. search \\n 3. browse \\n 4. pdp \\n 5. atb \\n 6. bag ****\")\n",
    "                            break\n",
    "                                            \n",
    "                    total_session,Avg,std,days,prev_month, current_month, next_month,a,b,c,d = bagOfVisits.func_call(device_inp,landingPage,month_name,metric)\n",
    "                    outputs[key]=int(total_session)\n",
    "                    printmd(\"***Total Visits of {}: {}***\".format(user,total_session))\n",
    "                    break\n",
    "                \n",
    "                if key == 'mean':\n",
    "                    mean_float = float(Avg)\n",
    "                    counts+=1\n",
    "                    outputs[key]=mean_float\n",
    "                    print(\"\\n\")\n",
    "                    printmd('****%s****'% value)\n",
    "                    print(str(mean_float))\n",
    "                    break\n",
    "                    \n",
    "                elif key == 'std_dev':\n",
    "                    std_float = float(std)\n",
    "                    counts+=1\n",
    "                    outputs[key]=std_float\n",
    "                    print(\"\\n\")\n",
    "                    printmd('****%s****'% value)\n",
    "                    print(str(std_float))\n",
    "                    print(\"\\n\")\n",
    "                    break\n",
    "                    \n",
    "                elif key=='ndays':\n",
    "                    outputs[key]=int(days)\n",
    "                    print(\"**********************************************************************\")\n",
    "                    printmd('****%s****'% value)\n",
    "                    print(str(days))\n",
    "                    print(\"Previous Month: {} \\t Current Month: {} \\t  Next Month: {} \\t  \\n \\n\".format(a,b,c))\n",
    "                    print(\"\\n\")\n",
    "                    printmd(\"\\n ****Fiscal Previous & Next Month Mapping Table**** \\n\")\n",
    "                    print(d)\n",
    "                    print(\"**********************************************************************\")\n",
    "                    break\n",
    "                    \n",
    "                else:\n",
    "                    printmd('\\n ****Question:**** \\n')\n",
    "                    user_=input(value)\n",
    "                    user_int=int(user_.replace(',',''))\n",
    "                    if user_int<=1:\n",
    "                        print(\"Please enter a number greater than one...\", '\\n')\n",
    "                        continue\n",
    "                    else:\n",
    "                        print(\"Accepted: {} \".format(user_int), '\\n')\n",
    "                        counts+=1\n",
    "                        outputs[key]=user_int\n",
    "                        break\n",
    "            except Exception as e:\n",
    "                print(\"Error: {}\".format(e))\n",
    "                print(\"Please enter a valid number...\", '\\n')\n",
    "                continue\n",
    "    if outputs.get('maxdays') <= outputs.get('mindays'):\n",
    "        print(\"Warning: Max Days {} is <= Min Days {}\".format(outputs.get('maxdays'),outputs.get('mindays')))\n",
    "        print(\"Will reset to 14-28...\")\n",
    "        outputs['mindays']=14\n",
    "        outputs['maxdays']=28\n",
    "    else:\n",
    "        pass\n",
    "    try:\n",
    "        outputs['sessions_per_day']=round(outputs.get('nsessions')/outputs.get('ndays'))\n",
    "        print(\"Accepted! Here are you input values: \", '\\n')\n",
    "        for key, value in outputs.items():\n",
    "            print(key, value)\n",
    "        print('\\n')\n",
    "        return outputs\n",
    "    except Exception as e:\n",
    "        raise e\n",
    "\n",
    "\n",
    "\n",
    "\n",
    "########\n",
    "\n",
    "def get_user_variables():\n",
    "    inputs={\"narms\": \"How ARMS are in the experiment (Control + All treatments)?  \",\n",
    "            \"nsessions\": \"How many SESSIONS did your historical data have? (commas ok)  \",\n",
    "            \"mean\": \"What is the MEAN (AVERAGE) of your data?  \",\n",
    "            \"std_dev\": \"What is the Standard Deviation of your data?  \",\n",
    "            \"ndays\": \"How many DAYS did this historical data span for?  \",\n",
    "            \"mindays\": \"What is the MINIMUM number of days that you think your test should run for? (Usually 14)  \",\n",
    "            \"maxdays\": \"What is the MAXIMUM number of days that you think the test should run for? (Usually 28)  \"}\n",
    "\n",
    "    outputs={\"narms\": None,\n",
    "             \"nsessions\": None,\n",
    "             \"mean\": None,\n",
    "             \"std_dev\": None,\n",
    "             \"ndays\": None,\n",
    "             \"mindays\": None,\n",
    "             \"maxdays\": None}\n",
    "    counts=0\n",
    "    for key, value in inputs.items():\n",
    "        print('\\n','Question # {}: '.format(counts+1),'\\n')\n",
    "        while counts<len(outputs):\n",
    "            try:\n",
    "                \n",
    "                if key == 'mean' or key == 'std_dev':\n",
    "                    user_=input(value)\n",
    "                    user_float=float(user_)\n",
    "                    counts+=1\n",
    "                    outputs[key]=user_float\n",
    "                    break\n",
    "                else:\n",
    "                    user_=input(value)\n",
    "                    user_int=int(user_.replace(',',''))\n",
    "                    if user_int<=1:\n",
    "                        print(\"Please enter a number greater than one...\", '\\n')\n",
    "                        continue\n",
    "                    else:\n",
    "                        print(\"Accepted: {} \".format(user_int), '\\n')\n",
    "                        counts+=1\n",
    "                        outputs[key]=user_int\n",
    "                        break\n",
    "            except Exception as e:\n",
    "                print(\"Error: {}\".format(e))\n",
    "                print(\"Please enter a valid number...\", '\\n')\n",
    "                continue\n",
    "    if outputs.get('maxdays') <= outputs.get('mindays'):\n",
    "        print(\"Warning: Max Days {} is <= Min Days {}\".format(outputs.get('maxdays'),outputs.get('mindays')))\n",
    "        print(\"Will reset to 14-28...\")\n",
    "        outputs['mindays']=14\n",
    "        outputs['maxdays']=28\n",
    "    else:\n",
    "        pass\n",
    "    try:\n",
    "        outputs['sessions_per_day']=round(outputs.get('nsessions')/outputs.get('ndays'))\n",
    "        print(\"Accepted! Here are you input values: \", '\\n')\n",
    "        for key, value in outputs.items():\n",
    "            print(key, value)\n",
    "        print('\\n')\n",
    "        return outputs\n",
    "    except Exception as e:\n",
    "        raise e\n",
    "\n",
    "def get_lifts_splits(max_split):\n",
    "    inputs={\"lift\": \"Is there a specific LIFT value you want to measure? (Yes/No)  \",\n",
    "            \"split\": \"Is there a specific SPLIT value you want to measure? (Yes/No)  \"}\n",
    "    outputs={\"lift\":None, \"split\":None}\n",
    "    counts=0\n",
    "    for key,value in inputs.items():\n",
    "        while counts<len(outputs)+1:\n",
    "            try:\n",
    "                user_=input(value)\n",
    "                if user_.upper()=='YES' or user_.upper()=='Y':\n",
    "                    specific_=input(\"Please input a raw decimal value (without % sign):    \")\n",
    "                    try:\n",
    "                        print(specific_)\n",
    "                        specific_float=float(specific_)\n",
    "                        if specific_float > max_split and key=='split':\n",
    "                            print(\"Warning!! Split entered is greater than the max split allowed... please enter a split value less than or equeal to {}   \".format(max_split))\n",
    "                            continue\n",
    "                        elif specific_float <= 0:\n",
    "                            print(\"Please enter a value greater than zero!  \")\n",
    "                            continue\n",
    "                        else:\n",
    "                            counts+=1\n",
    "                            outputs[key]=[specific_float]\n",
    "                            print(\"Accepted: {}\".format(specific_float), \"\\n\")\n",
    "                            break\n",
    "                    except Exception as e:\n",
    "                        print(\"Error! Please enter a valid decimal value, ex. 2.5% would be 0.025.\")\n",
    "                        print(e)\n",
    "                        continue\n",
    "\n",
    "                elif user_.upper()=='NO' or user_.upper()=='N':\n",
    "                    print(\"Ok, a range of values will be provided then...   \", \"\\n\")\n",
    "                    if key=='lift':\n",
    "                        lifts = [round(0.005*(i+1)/10,4) for i in range(100)]\n",
    "                        outputs[key]=lifts\n",
    "                        print(lifts)\n",
    "                        counts+=1\n",
    "                        break\n",
    "                    elif key=='split':\n",
    "                        splits = get_splits(max_split)\n",
    "                        outputs[key]=splits\n",
    "                        print(splits)\n",
    "                        counts+=1\n",
    "                        break\n",
    "                    else:\n",
    "                        break\n",
    "                else:\n",
    "                    print(\"Sorry, user input {} was not understood... let's try that again... \".format(user_), '\\n')\n",
    "                    continue\n",
    "            except Exception as e:\n",
    "                print(e)\n",
    "                print(\"Sorry, someting went wrong... let's try that again... \",'\\n')\n",
    "                continue\n",
    "    return outputs\n",
    "\n",
    "\n",
    "def run_power_analysis(userdata, ls, maxsplit):\n",
    "    narms=userdata.get('narms')\n",
    "    mindays=int(userdata.get('mindays'))\n",
    "    maxdays=int(userdata.get('maxdays'))\n",
    "    mean=userdata.get('mean')\n",
    "    std_dev=userdata.get('std_dev')\n",
    "    baseline_conversion_rate=userdata.get('baseline_conversion_rate')\n",
    "    sessions_per_day=userdata.get('sessions_per_day')\n",
    "    lifts=ls.get('lift')\n",
    "    splits=ls.get('split')\n",
    "\n",
    "    name_of_experiment=input(\"What is the name of your experiment?  \")\n",
    "    print('\\n', 'Generating Report... Please wait...','\\n')\n",
    "    df = generate_df(mean,std_dev,lifts,splits,sessions_per_day)\n",
    "    df2 = filter_on_day_length(df,mindays,maxdays)\n",
    "    if len(df2.index)>0:\n",
    "        print(\"The experiment: {}, has {} arms.\".format(name_of_experiment, narms),'\\n')\n",
    "        print(\"The maximum split you can have per group is {0:.2%}\".format(maxsplit),'\\n')\n",
    "        #print(\"The baseline conversion rate is {0:.2%}.\".format(baseline_conversion_rate),'\\n')\n",
    "        df2.to_csv(\"Filtered Power Analysis for {} with {} groups.csv\".format(name_of_experiment,narms),index=None)\n",
    "        df.to_csv(\"Unfiltered Power Analysis for {} with {} groups.csv\".format(name_of_experiment,narms),index=None)\n",
    "        print(\"Filtered and Unfiltered results have been saved to CSV!\",'\\n')\n",
    "        print(\"Snapshot also shown below.\",'\\n','\\n')\n",
    "        return df2\n",
    "    else:\n",
    "        print('Warning!! Unable to conduct power analysis within the spcified time frame','\\n')\n",
    "        print('All possible values, if any, will be returned for your consideration.','\\n')\n",
    "        df.to_csv(\"Power Analysis - All values - for {} with {} groups.csv\".format(name_of_experiment,narms),index=None)\n",
    "        return df\n",
    "\n",
    "def main_power_analysis():\n",
    "    \n",
    "    printmd(\"\\n ****Do you want to run Standardized or Non-Standardized Experiment?****\\n\")\n",
    "    type_of_inp = int(input(\"Enter 1 for Non-Standardized input (i.e., Manual Entry) \\\n",
    "    \\nEnter 2 for Standardized input  \"))\n",
    "    if type_of_inp == 1:\n",
    "        data=get_user_variables()\n",
    "    elif type_of_inp ==2:\n",
    "        data=get_user_variables_automated()\n",
    "    else: \n",
    "        print(\"You have selected wrong option\")\n",
    "    maxsplit=get_max_split(data.get('narms'))\n",
    "    lift_splits=get_lifts_splits(maxsplit)\n",
    "    df2=run_power_analysis(userdata=data,ls=lift_splits,maxsplit=maxsplit)\n",
    "    print(df2)\n",
    "\n",
    "\n",
    "\n",
    "if __name__ == '__main__':\n",
    "    main_power_analysis()\n",
    "\n",
    "    \n",
    "                             "
   ]
  },
  {
   "cell_type": "code",
   "execution_count": null,
   "metadata": {},
   "outputs": [],
   "source": []
  }
 ],
 "metadata": {
  "kernelspec": {
   "display_name": "Python 3",
   "language": "python",
   "name": "python3"
  },
  "language_info": {
   "codemirror_mode": {
    "name": "ipython",
    "version": 3
   },
   "file_extension": ".py",
   "mimetype": "text/x-python",
   "name": "python",
   "nbconvert_exporter": "python",
   "pygments_lexer": "ipython3",
   "version": "3.7.3"
  }
 },
 "nbformat": 4,
 "nbformat_minor": 2
}
